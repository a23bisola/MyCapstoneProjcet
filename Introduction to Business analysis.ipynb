{
    "cells": [
        {
            "metadata": {
                "collapsed": true
            },
            "cell_type": "markdown",
            "source": "__Introduction__"
        },
        {
            "metadata": {},
            "cell_type": "markdown",
            "source": "The proposal is suggest locations for a possible restaurant location. Citing a restaurant in appropriate locations entails so many things some of which include of its concept and brand, the menu items, business offerings, financial projection, and market analysis etc amongst other typical things. But, the location is a major factor in this process. Different stories for different folks. As class, wants, need and capability differs across all ethinc, racial, or geopolitical ones, it has become impressingly important to work with the demographics so as to enable propmt synchronization. For example, an industrial regions would most likely be able to afford, consistent when citing a restaurant that sells high quality food compared to some places where the inhabitants would not fit into such class. Another thing is the ease of accesibility based people's opinion on what makes a place accesible or not, either way, the class of people does not really matter but how much access they would be able to have of such place. \nSo, what makes a place a better a location varies from one location to another. Therefore, Foursquare API would be used to analyze some of the areas, cluster them in terms of similarities and diferences to get a better idea of \"what\" about some of the options before final decision."
        },
        {
            "metadata": {},
            "cell_type": "code",
            "source": "",
            "execution_count": null,
            "outputs": []
        }
    ],
    "metadata": {
        "kernelspec": {
            "name": "python3",
            "display_name": "Python 3.6",
            "language": "python"
        },
        "language_info": {
            "name": "python",
            "version": "3.6.9",
            "mimetype": "text/x-python",
            "codemirror_mode": {
                "name": "ipython",
                "version": 3
            },
            "pygments_lexer": "ipython3",
            "nbconvert_exporter": "python",
            "file_extension": ".py"
        }
    },
    "nbformat": 4,
    "nbformat_minor": 1
}