{
    "cells": [
        {
            "metadata": {
                "collapsed": true
            },
            "cell_type": "markdown",
            "source": "__Introduction__"
        },
        {
            "metadata": {},
            "cell_type": "markdown",
            "source": "Lagos, one of the southwestern states, is the giant in the economy driving force of Nigeria, contributing fairly to about 6 of 13 to the general economy of the nation. Majorly, the state\u2019s demographics divides into islands and the mainland and linking each other with a popular longest bridge in Africa \u201cthird mainland bridge\u201d. So, siting a restaurant in Lagos in the right place can transform into the infinite chalice of success. But what makes a place a good fit? Is it about popularity, or the population of a particular region, or some other factors such as wants, needs and pure desires of the inhabitants? This project explores the most suitable places for siting a restaurant in Lagos on either island or mainland; each of the clusters would attract the best possible menu and services. \nSiting a restaurant in appropriate locations entails so many things some of which include of its concept and brand, the menu and services, business offerings, financial projection of the loacls in the areas, and market analysis etc amongst other typical things. But, the location is a major factor in this process. Different stories for different folks. As class differs, wants and need and also capability differs across all ethinc, racial, or geopolitical ones, it has become impressingly important to work with the demographics so as to enable propmt synchronization. \nFor example, Considering these two scenarios; class rank and availability of basic amenities e.g road. In an industrial regions (e.g Ikeja, Ikoyi) most likely people should be able to afford, and be consistent with their buying patterns and that favours siting a restaurant. The one which sells high quality food compared to some other places where the inhabitants would not fit into such class file. Another thing is the ease of accesibility based people's opinion on what makes a place accesible or not, either way, the class of people does not really matter but how much access they would be able to have of such place because, traffic in Lagos is an issue of concern  \nSo, what makes a place a better a location varies from one location to another. Therefore, Foursquare API would be used to analyze some of the areas, cluster them in terms of similarities and diferences to get a better idea of \"what\" about some of the options before final decision."
        },
        {
            "metadata": {},
            "cell_type": "code",
            "source": "",
            "execution_count": null,
            "outputs": []
        }
    ],
    "metadata": {
        "kernelspec": {
            "name": "python3",
            "display_name": "Python 3.6",
            "language": "python"
        },
        "language_info": {
            "name": "python",
            "version": "3.6.9",
            "mimetype": "text/x-python",
            "codemirror_mode": {
                "name": "ipython",
                "version": 3
            },
            "pygments_lexer": "ipython3",
            "nbconvert_exporter": "python",
            "file_extension": ".py"
        }
    },
    "nbformat": 4,
    "nbformat_minor": 1
}