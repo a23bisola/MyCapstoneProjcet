{
    "cells": [
        {
            "metadata": {
                "collapsed": true
            },
            "cell_type": "markdown",
            "source": "__Data__"
        },
        {
            "metadata": {},
            "cell_type": "markdown",
            "source": "The following data sets will be required;  \na. Data file containing post code, burough and neighborhood of the areas to be exploited  \nb. some data where the corresponding longitudes and latitudes can be extracted if in a the file does not contain the latitudes and longitudes data.  \nThese files are then joined and cleaned to be as to be processed in a way suited for foursquare API calls. Then a clustering algorithm e.g K-means would be used to analyse and cluster the area based on the differences and similarities in them. After which the most fit location would be selected \n\n\n"
        },
        {
            "metadata": {},
            "cell_type": "code",
            "source": "",
            "execution_count": null,
            "outputs": []
        }
    ],
    "metadata": {
        "kernelspec": {
            "name": "python3",
            "display_name": "Python 3.6",
            "language": "python"
        },
        "language_info": {
            "name": "python",
            "version": "3.6.9",
            "mimetype": "text/x-python",
            "codemirror_mode": {
                "name": "ipython",
                "version": 3
            },
            "pygments_lexer": "ipython3",
            "nbconvert_exporter": "python",
            "file_extension": ".py"
        }
    },
    "nbformat": 4,
    "nbformat_minor": 1
}