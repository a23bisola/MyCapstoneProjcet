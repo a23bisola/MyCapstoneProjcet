{
    "cells": [
        {
            "metadata": {
                "collapsed": true
            },
            "cell_type": "markdown",
            "source": "__Data__"
        },
        {
            "metadata": {},
            "cell_type": "markdown",
            "source": "A dataset that might contribute to present a place or places as a key area should include neighborhood, longitude and latitude and as well as other key factors to determine if a place is or not, such as availability of basic amenities that would make a restaurant thrive as expected. However, in this project, there are three most significant features in the dataset and aims to cluster places based on similarities and dissimilarities to whether and what places are much a place for a proposed restaurant.\nMy clients would be very interested in accurate cluster of places based on each cluster closest similarities, for competitive advantage and business values.\nThe data set was found on Kaggle titled markets in Lagos with latitudes and longitudes of these 36 popular market places\nThe data name column to was only changed to Neighborhood for easy work around with the API to be used\nThe data consist of the three columns (Name, Latitude and Longitude) that are crucial when working with the API and algorithm development, and none was dropped\n\n"
        },
        {
            "metadata": {},
            "cell_type": "code",
            "source": "",
            "execution_count": null,
            "outputs": []
        }
    ],
    "metadata": {
        "kernelspec": {
            "name": "python3",
            "display_name": "Python 3.6",
            "language": "python"
        },
        "language_info": {
            "name": "python",
            "version": "3.6.9",
            "mimetype": "text/x-python",
            "codemirror_mode": {
                "name": "ipython",
                "version": 3
            },
            "pygments_lexer": "ipython3",
            "nbconvert_exporter": "python",
            "file_extension": ".py"
        }
    },
    "nbformat": 4,
    "nbformat_minor": 1
}